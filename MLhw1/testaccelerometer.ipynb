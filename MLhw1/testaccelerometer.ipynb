{
 "cells": [
  {
   "cell_type": "code",
   "execution_count": 1,
   "id": "e820dc72",
   "metadata": {},
   "outputs": [],
   "source": [
    "#安裝python套件\n",
    "import matplotlib.pyplot as plt\n",
    "import csv\n",
    "from sklearn.model_selection import train_test_split\n",
    "import pandas as pd\n",
    "import numpy as np\n",
    "from sklearn import tree\n",
    "from sklearn.preprocessing import LabelEncoder"
   ]
  },
  {
   "cell_type": "code",
   "execution_count": 2,
   "id": "588fffe9",
   "metadata": {},
   "outputs": [],
   "source": [
    "#設置欄位名稱並讀取資料集之csv檔\n",
    "df1=pd.read_csv('accelerometer.csv')\n",
    "df2=pd.read_csv('accelerometer.csv')"
   ]
  },
  {
   "cell_type": "code",
   "execution_count": 3,
   "id": "98557e05",
   "metadata": {},
   "outputs": [
    {
     "data": {
      "text/html": [
       "<div>\n",
       "<style scoped>\n",
       "    .dataframe tbody tr th:only-of-type {\n",
       "        vertical-align: middle;\n",
       "    }\n",
       "\n",
       "    .dataframe tbody tr th {\n",
       "        vertical-align: top;\n",
       "    }\n",
       "\n",
       "    .dataframe thead th {\n",
       "        text-align: right;\n",
       "    }\n",
       "</style>\n",
       "<table border=\"1\" class=\"dataframe\">\n",
       "  <thead>\n",
       "    <tr style=\"text-align: right;\">\n",
       "      <th></th>\n",
       "      <th>wconfid</th>\n",
       "      <th>pctid</th>\n",
       "      <th>x</th>\n",
       "      <th>y</th>\n",
       "      <th>z</th>\n",
       "    </tr>\n",
       "  </thead>\n",
       "  <tbody>\n",
       "    <tr>\n",
       "      <th>0</th>\n",
       "      <td>1</td>\n",
       "      <td>20</td>\n",
       "      <td>1.004</td>\n",
       "      <td>0.090</td>\n",
       "      <td>-0.125</td>\n",
       "    </tr>\n",
       "    <tr>\n",
       "      <th>1</th>\n",
       "      <td>1</td>\n",
       "      <td>20</td>\n",
       "      <td>1.004</td>\n",
       "      <td>-0.043</td>\n",
       "      <td>-0.125</td>\n",
       "    </tr>\n",
       "    <tr>\n",
       "      <th>2</th>\n",
       "      <td>1</td>\n",
       "      <td>20</td>\n",
       "      <td>0.969</td>\n",
       "      <td>0.090</td>\n",
       "      <td>-0.121</td>\n",
       "    </tr>\n",
       "    <tr>\n",
       "      <th>3</th>\n",
       "      <td>1</td>\n",
       "      <td>20</td>\n",
       "      <td>0.973</td>\n",
       "      <td>-0.012</td>\n",
       "      <td>-0.137</td>\n",
       "    </tr>\n",
       "    <tr>\n",
       "      <th>4</th>\n",
       "      <td>1</td>\n",
       "      <td>20</td>\n",
       "      <td>1.000</td>\n",
       "      <td>-0.016</td>\n",
       "      <td>-0.121</td>\n",
       "    </tr>\n",
       "    <tr>\n",
       "      <th>...</th>\n",
       "      <td>...</td>\n",
       "      <td>...</td>\n",
       "      <td>...</td>\n",
       "      <td>...</td>\n",
       "      <td>...</td>\n",
       "    </tr>\n",
       "    <tr>\n",
       "      <th>152995</th>\n",
       "      <td>3</td>\n",
       "      <td>100</td>\n",
       "      <td>1.051</td>\n",
       "      <td>0.090</td>\n",
       "      <td>-0.262</td>\n",
       "    </tr>\n",
       "    <tr>\n",
       "      <th>152996</th>\n",
       "      <td>3</td>\n",
       "      <td>100</td>\n",
       "      <td>0.918</td>\n",
       "      <td>0.039</td>\n",
       "      <td>-0.129</td>\n",
       "    </tr>\n",
       "    <tr>\n",
       "      <th>152997</th>\n",
       "      <td>3</td>\n",
       "      <td>100</td>\n",
       "      <td>1.156</td>\n",
       "      <td>-0.094</td>\n",
       "      <td>-0.227</td>\n",
       "    </tr>\n",
       "    <tr>\n",
       "      <th>152998</th>\n",
       "      <td>3</td>\n",
       "      <td>100</td>\n",
       "      <td>0.934</td>\n",
       "      <td>0.203</td>\n",
       "      <td>-0.172</td>\n",
       "    </tr>\n",
       "    <tr>\n",
       "      <th>152999</th>\n",
       "      <td>3</td>\n",
       "      <td>100</td>\n",
       "      <td>1.199</td>\n",
       "      <td>-0.176</td>\n",
       "      <td>0.109</td>\n",
       "    </tr>\n",
       "  </tbody>\n",
       "</table>\n",
       "<p>153000 rows × 5 columns</p>\n",
       "</div>"
      ],
      "text/plain": [
       "        wconfid  pctid      x      y      z\n",
       "0             1     20  1.004  0.090 -0.125\n",
       "1             1     20  1.004 -0.043 -0.125\n",
       "2             1     20  0.969  0.090 -0.121\n",
       "3             1     20  0.973 -0.012 -0.137\n",
       "4             1     20  1.000 -0.016 -0.121\n",
       "...         ...    ...    ...    ...    ...\n",
       "152995        3    100  1.051  0.090 -0.262\n",
       "152996        3    100  0.918  0.039 -0.129\n",
       "152997        3    100  1.156 -0.094 -0.227\n",
       "152998        3    100  0.934  0.203 -0.172\n",
       "152999        3    100  1.199 -0.176  0.109\n",
       "\n",
       "[153000 rows x 5 columns]"
      ]
     },
     "execution_count": 3,
     "metadata": {},
     "output_type": "execute_result"
    }
   ],
   "source": [
    "df1"
   ]
  },
  {
   "cell_type": "code",
   "execution_count": 4,
   "id": "f83a8b85",
   "metadata": {},
   "outputs": [
    {
     "name": "stdout",
     "output_type": "stream",
     "text": [
      "<class 'pandas.core.frame.DataFrame'>\n",
      "RangeIndex: 153000 entries, 0 to 152999\n",
      "Data columns (total 5 columns):\n",
      " #   Column   Non-Null Count   Dtype  \n",
      "---  ------   --------------   -----  \n",
      " 0   wconfid  153000 non-null  int64  \n",
      " 1   pctid    153000 non-null  int64  \n",
      " 2   x        153000 non-null  float64\n",
      " 3   y        153000 non-null  float64\n",
      " 4   z        153000 non-null  float64\n",
      "dtypes: float64(3), int64(2)\n",
      "memory usage: 5.8 MB\n"
     ]
    }
   ],
   "source": [
    "#查看資料型態\n",
    "df1.info()"
   ]
  },
  {
   "cell_type": "code",
   "execution_count": 5,
   "id": "0749e4ac",
   "metadata": {},
   "outputs": [],
   "source": [
    "#資料型態轉換\n",
    "le=LabelEncoder()\n",
    "for col in df1[[\"wconfid\",\"pctid\",\"x\",\"y\",\"z\"]]:\n",
    "    df1[col]=le.fit_transform(df1[col]).astype(np.float64)\n",
    "#資料型態轉換\n",
    "le=LabelEncoder()\n",
    "for col in df2[[\"wconfid\",\"pctid\",\"x\",\"y\",\"z\"]]:\n",
    "    df2[col]=le.fit_transform(df2[col]).astype(np.float64)"
   ]
  },
  {
   "cell_type": "code",
   "execution_count": 6,
   "id": "14a8b1a8",
   "metadata": {},
   "outputs": [],
   "source": [
    "#設定答案\n",
    "y1= df1.pop('wconfid')\n",
    "y2= df2.pop('pctid')"
   ]
  },
  {
   "cell_type": "code",
   "execution_count": 7,
   "id": "84089fac",
   "metadata": {},
   "outputs": [],
   "source": [
    "# 標準化\n",
    "mean = df1.mean(axis=0)\n",
    "df1 -= mean\n",
    "std = df1.std(axis=0)\n",
    "df1 /= std\n",
    "\n",
    "mean = df2.mean(axis=0)\n",
    "df2 -= mean\n",
    "std = df2.std(axis=0)\n",
    "df2 /= std"
   ]
  },
  {
   "cell_type": "code",
   "execution_count": 8,
   "id": "bc7b13bc",
   "metadata": {},
   "outputs": [
    {
     "data": {
      "text/plain": [
       "array([[-1.22474087,  0.01028864,  0.11697373, -0.01403047],\n",
       "       [-1.22474087,  0.01028864, -0.073111  , -0.01403047],\n",
       "       [-1.22474087, -0.03684195,  0.11697373, -0.00638057],\n",
       "       ...,\n",
       "       [ 1.22474087,  0.21452119, -0.14579045, -0.21292799],\n",
       "       [ 1.22474087, -0.08397254,  0.27910482, -0.10582933],\n",
       "       [ 1.22474087,  0.27212524, -0.26319573,  0.44496378]])"
      ]
     },
     "execution_count": 8,
     "metadata": {},
     "output_type": "execute_result"
    }
   ],
   "source": [
    "df1=np.array(df1)\n",
    "df2=np.array(df2)\n",
    "y1=np.array(y1)\n",
    "y2=np.array(y2)\n",
    "df2"
   ]
  },
  {
   "cell_type": "code",
   "execution_count": 9,
   "id": "cfe4a43c",
   "metadata": {},
   "outputs": [
    {
     "name": "stdout",
     "output_type": "stream",
     "text": [
      "Training data shape: (107100, 4)\n",
      "Validation data shape: (22950, 4)\n",
      "Test data shape: (22950, 4)\n",
      "Training data shape: (107100, 4)\n",
      "Validation data shape: (22950, 4)\n",
      "Test data shape: (22950, 4)\n"
     ]
    }
   ],
   "source": [
    "#分配訓練資料、測試資料、驗證資料\n",
    "X1_train, X1_test, y1_train, y1_test = train_test_split(df1, y1, test_size=0.15, random_state=1)\n",
    "X1_train, X1_val, y1_train, y1_val = train_test_split(X1_train, y1_train, test_size=0.176465, random_state=1) # 0.176465 x 0.85 = 0.15\n",
    "X2_train, X2_test, y2_train, y2_test = train_test_split(df2, y2, test_size=0.15, random_state=1)\n",
    "X2_train, X2_val, y2_train, y2_val = train_test_split(X2_train, y2_train, test_size=0.176465, random_state=1) # 0.176465 x 0.85 = 0.15\n",
    "\n",
    "# Print the shapes of the resulting datasets\n",
    "print(\"Training data shape:\", X1_train.shape)\n",
    "print(\"Validation data shape:\", X1_val.shape)\n",
    "print(\"Test data shape:\", X1_test.shape)\n",
    "\n",
    "# Print the shapes of the resulting datasets\n",
    "print(\"Training data shape:\", X2_train.shape)\n",
    "print(\"Validation data shape:\", X2_val.shape)\n",
    "print(\"Test data shape:\", X2_test.shape)"
   ]
  },
  {
   "cell_type": "code",
   "execution_count": 10,
   "id": "559556ec",
   "metadata": {},
   "outputs": [],
   "source": [
    "from keras import models\n",
    "from keras import layers\n",
    "\n",
    "def build_model1():\n",
    "    model = models.Sequential()\n",
    "    model.add(layers.Dense(64, activation='relu', input_shape=(X1_train.shape[1],)))\n",
    "    model.add(layers.Dense(64, activation='relu'))\n",
    "    model.add(layers.Dense(46, activation='softmax'))\n",
    "    model.summary()\n",
    "    model.compile(optimizer='rmsprop', loss='categorical_crossentropy', metrics=['accuracy'])\n",
    "    return model\n",
    "\n",
    "def build_model2():\n",
    "    model = models.Sequential()\n",
    "    model.add(layers.Dense(64, activation='relu', input_shape=(X2_train.shape[1],)))\n",
    "    model.add(layers.Dense(64, activation='relu'))\n",
    "    model.add(layers.Dense(1))\n",
    "    model.summary()\n",
    "    model.compile(optimizer='rmsprop', loss='mse', metrics=['mae', 'mape'])\n",
    "    return model"
   ]
  },
  {
   "cell_type": "markdown",
   "id": "4a4f9643",
   "metadata": {},
   "source": [
    "# Validation"
   ]
  },
  {
   "cell_type": "code",
   "execution_count": 11,
   "id": "c1e7f6b7",
   "metadata": {},
   "outputs": [
    {
     "name": "stdout",
     "output_type": "stream",
     "text": [
      "Model: \"sequential\"\n",
      "_________________________________________________________________\n",
      " Layer (type)                Output Shape              Param #   \n",
      "=================================================================\n",
      " dense (Dense)               (None, 64)                320       \n",
      "                                                                 \n",
      " dense_1 (Dense)             (None, 64)                4160      \n",
      "                                                                 \n",
      " dense_2 (Dense)             (None, 1)                 65        \n",
      "                                                                 \n",
      "=================================================================\n",
      "Total params: 4,545\n",
      "Trainable params: 4,545\n",
      "Non-trainable params: 0\n",
      "_________________________________________________________________\n",
      "Epoch 1/20\n",
      "6694/6694 [==============================] - 32s 5ms/step - loss: 1.1920e-07 - accuracy: 0.3333 - val_loss: 1.1854e-07 - val_accuracy: 0.3360\n",
      "Epoch 2/20\n",
      "6694/6694 [==============================] - 31s 5ms/step - loss: 1.1920e-07 - accuracy: 0.3333 - val_loss: 1.1854e-07 - val_accuracy: 0.3360\n",
      "Epoch 3/20\n",
      "4078/6694 [=================>............] - ETA: 10s - loss: 1.1919e-07 - accuracy: 0.3334"
     ]
    },
    {
     "ename": "KeyboardInterrupt",
     "evalue": "",
     "output_type": "error",
     "traceback": [
      "\u001b[1;31m---------------------------------------------------------------------------\u001b[0m",
      "\u001b[1;31mKeyboardInterrupt\u001b[0m                         Traceback (most recent call last)",
      "\u001b[1;32m~\\AppData\\Local\\Temp\\ipykernel_3484\\1378430859.py\u001b[0m in \u001b[0;36m<module>\u001b[1;34m\u001b[0m\n\u001b[0;32m      1\u001b[0m \u001b[0mmodel1\u001b[0m \u001b[1;33m=\u001b[0m \u001b[0mbuild_model1\u001b[0m\u001b[1;33m(\u001b[0m\u001b[1;33m)\u001b[0m\u001b[1;33m\u001b[0m\u001b[1;33m\u001b[0m\u001b[0m\n\u001b[1;32m----> 2\u001b[1;33m \u001b[0mh1\u001b[0m\u001b[1;33m=\u001b[0m\u001b[0mmodel1\u001b[0m\u001b[1;33m.\u001b[0m\u001b[0mfit\u001b[0m\u001b[1;33m(\u001b[0m\u001b[0mX1_train\u001b[0m\u001b[1;33m,\u001b[0m \u001b[0my1_train\u001b[0m\u001b[1;33m,\u001b[0m \u001b[0mvalidation_data\u001b[0m\u001b[1;33m=\u001b[0m\u001b[1;33m(\u001b[0m\u001b[0mX1_val\u001b[0m\u001b[1;33m,\u001b[0m \u001b[0my1_val\u001b[0m\u001b[1;33m)\u001b[0m\u001b[1;33m,\u001b[0m \u001b[0mepochs\u001b[0m\u001b[1;33m=\u001b[0m\u001b[1;36m20\u001b[0m\u001b[1;33m,\u001b[0m \u001b[0mbatch_size\u001b[0m\u001b[1;33m=\u001b[0m\u001b[1;36m16\u001b[0m\u001b[1;33m,\u001b[0m \u001b[0mverbose\u001b[0m\u001b[1;33m=\u001b[0m\u001b[1;36m1\u001b[0m\u001b[1;33m)\u001b[0m\u001b[1;33m\u001b[0m\u001b[1;33m\u001b[0m\u001b[0m\n\u001b[0m",
      "\u001b[1;32m~\\anaconda3\\envs\\gpu\\lib\\site-packages\\keras\\utils\\traceback_utils.py\u001b[0m in \u001b[0;36merror_handler\u001b[1;34m(*args, **kwargs)\u001b[0m\n\u001b[0;32m     62\u001b[0m     \u001b[0mfiltered_tb\u001b[0m \u001b[1;33m=\u001b[0m \u001b[1;32mNone\u001b[0m\u001b[1;33m\u001b[0m\u001b[1;33m\u001b[0m\u001b[0m\n\u001b[0;32m     63\u001b[0m     \u001b[1;32mtry\u001b[0m\u001b[1;33m:\u001b[0m\u001b[1;33m\u001b[0m\u001b[1;33m\u001b[0m\u001b[0m\n\u001b[1;32m---> 64\u001b[1;33m       \u001b[1;32mreturn\u001b[0m \u001b[0mfn\u001b[0m\u001b[1;33m(\u001b[0m\u001b[1;33m*\u001b[0m\u001b[0margs\u001b[0m\u001b[1;33m,\u001b[0m \u001b[1;33m**\u001b[0m\u001b[0mkwargs\u001b[0m\u001b[1;33m)\u001b[0m\u001b[1;33m\u001b[0m\u001b[1;33m\u001b[0m\u001b[0m\n\u001b[0m\u001b[0;32m     65\u001b[0m     \u001b[1;32mexcept\u001b[0m \u001b[0mException\u001b[0m \u001b[1;32mas\u001b[0m \u001b[0me\u001b[0m\u001b[1;33m:\u001b[0m  \u001b[1;31m# pylint: disable=broad-except\u001b[0m\u001b[1;33m\u001b[0m\u001b[1;33m\u001b[0m\u001b[0m\n\u001b[0;32m     66\u001b[0m       \u001b[0mfiltered_tb\u001b[0m \u001b[1;33m=\u001b[0m \u001b[0m_process_traceback_frames\u001b[0m\u001b[1;33m(\u001b[0m\u001b[0me\u001b[0m\u001b[1;33m.\u001b[0m\u001b[0m__traceback__\u001b[0m\u001b[1;33m)\u001b[0m\u001b[1;33m\u001b[0m\u001b[1;33m\u001b[0m\u001b[0m\n",
      "\u001b[1;32m~\\anaconda3\\envs\\gpu\\lib\\site-packages\\keras\\engine\\training.py\u001b[0m in \u001b[0;36mfit\u001b[1;34m(self, x, y, batch_size, epochs, verbose, callbacks, validation_split, validation_data, shuffle, class_weight, sample_weight, initial_epoch, steps_per_epoch, validation_steps, validation_batch_size, validation_freq, max_queue_size, workers, use_multiprocessing)\u001b[0m\n\u001b[0;32m   1411\u001b[0m                 \u001b[0mcontext\u001b[0m\u001b[1;33m.\u001b[0m\u001b[0masync_wait\u001b[0m\u001b[1;33m(\u001b[0m\u001b[1;33m)\u001b[0m\u001b[1;33m\u001b[0m\u001b[1;33m\u001b[0m\u001b[0m\n\u001b[0;32m   1412\u001b[0m               \u001b[0mlogs\u001b[0m \u001b[1;33m=\u001b[0m \u001b[0mtmp_logs\u001b[0m  \u001b[1;31m# No error, now safe to assign to logs.\u001b[0m\u001b[1;33m\u001b[0m\u001b[1;33m\u001b[0m\u001b[0m\n\u001b[1;32m-> 1413\u001b[1;33m               \u001b[0mend_step\u001b[0m \u001b[1;33m=\u001b[0m \u001b[0mstep\u001b[0m \u001b[1;33m+\u001b[0m \u001b[0mdata_handler\u001b[0m\u001b[1;33m.\u001b[0m\u001b[0mstep_increment\u001b[0m\u001b[1;33m\u001b[0m\u001b[1;33m\u001b[0m\u001b[0m\n\u001b[0m\u001b[0;32m   1414\u001b[0m               \u001b[0mcallbacks\u001b[0m\u001b[1;33m.\u001b[0m\u001b[0mon_train_batch_end\u001b[0m\u001b[1;33m(\u001b[0m\u001b[0mend_step\u001b[0m\u001b[1;33m,\u001b[0m \u001b[0mlogs\u001b[0m\u001b[1;33m)\u001b[0m\u001b[1;33m\u001b[0m\u001b[1;33m\u001b[0m\u001b[0m\n\u001b[0;32m   1415\u001b[0m               \u001b[1;32mif\u001b[0m \u001b[0mself\u001b[0m\u001b[1;33m.\u001b[0m\u001b[0mstop_training\u001b[0m\u001b[1;33m:\u001b[0m\u001b[1;33m\u001b[0m\u001b[1;33m\u001b[0m\u001b[0m\n",
      "\u001b[1;32m~\\anaconda3\\envs\\gpu\\lib\\site-packages\\keras\\engine\\data_adapter.py\u001b[0m in \u001b[0;36mstep_increment\u001b[1;34m(self)\u001b[0m\n\u001b[0;32m   1266\u001b[0m         \u001b[0mself\u001b[0m\u001b[1;33m.\u001b[0m\u001b[0m_steps_per_execution\u001b[0m\u001b[1;33m.\u001b[0m\u001b[0massign\u001b[0m\u001b[1;33m(\u001b[0m\u001b[0moriginal_spe\u001b[0m\u001b[1;33m)\u001b[0m\u001b[1;33m\u001b[0m\u001b[1;33m\u001b[0m\u001b[0m\n\u001b[0;32m   1267\u001b[0m \u001b[1;33m\u001b[0m\u001b[0m\n\u001b[1;32m-> 1268\u001b[1;33m   \u001b[1;33m@\u001b[0m\u001b[0mproperty\u001b[0m\u001b[1;33m\u001b[0m\u001b[1;33m\u001b[0m\u001b[0m\n\u001b[0m\u001b[0;32m   1269\u001b[0m   \u001b[1;32mdef\u001b[0m \u001b[0mstep_increment\u001b[0m\u001b[1;33m(\u001b[0m\u001b[0mself\u001b[0m\u001b[1;33m)\u001b[0m\u001b[1;33m:\u001b[0m\u001b[1;33m\u001b[0m\u001b[1;33m\u001b[0m\u001b[0m\n\u001b[0;32m   1270\u001b[0m     \u001b[1;34m\"\"\"The number to increment the step for `on_batch_end` methods.\"\"\"\u001b[0m\u001b[1;33m\u001b[0m\u001b[1;33m\u001b[0m\u001b[0m\n",
      "\u001b[1;31mKeyboardInterrupt\u001b[0m: "
     ]
    }
   ],
   "source": [
    "model1 = build_model1()\n",
    "h1=model1.fit(X1_train, y1_train, validation_data=(X1_val, y1_val), epochs=20, batch_size=16, verbose=1)"
   ]
  },
  {
   "cell_type": "code",
   "execution_count": 19,
   "id": "811c83cf",
   "metadata": {},
   "outputs": [
    {
     "data": {
      "image/png": "[encoded data removed]",
      "text/plain": [
       "<Figure size 640x480 with 1 Axes>"
      ]
     },
     "metadata": {},
     "output_type": "display_data"
    }
   ],
   "source": [
    "import matplotlib.pyplot as plt\n",
    "\n",
    "loss = h1.history['loss']\n",
    "val_loss = h1.history['val_loss']\n",
    "\n",
    "epochs = range(1, len(loss) + 1)\n",
    "\n",
    "plt.plot(epochs, loss, 'bo', label='Training loss')\n",
    "plt.plot(epochs, val_loss, 'b', label='Validation loss')\n",
    "plt.title('Training and validation loss')\n",
    "plt.xlabel('Epochs')\n",
    "plt.ylabel('Loss')\n",
    "plt.legend()\n",
    "\n",
    "plt.show()"
   ]
  },
  {
   "cell_type": "code",
   "execution_count": 20,
   "id": "d1678eaf",
   "metadata": {},
   "outputs": [
    {
     "data": {
      "image/png": "[encoded data removed]",
      "text/plain": [
       "<Figure size 640x480 with 1 Axes>"
      ]
     },
     "metadata": {},
     "output_type": "display_data"
    }
   ],
   "source": [
    "plt.clf()   # clear figure\n",
    "\n",
    "acc = h1.history['accuracy']\n",
    "val_acc = h1.history['val_accuracy']\n",
    "\n",
    "plt.plot(epochs, acc, 'bo', label='Training acc')\n",
    "plt.plot(epochs, val_acc, 'b', label='Validation acc')\n",
    "plt.title('Training and validation accuracy')\n",
    "plt.xlabel('Epochs')\n",
    "plt.ylabel('Loss')\n",
    "plt.legend()\n",
    "\n",
    "plt.show()"
   ]
  },
  {
   "cell_type": "code",
   "execution_count": 21,
   "id": "e6fd49a8",
   "metadata": {
    "scrolled": true
   },
   "outputs": [
    {
     "name": "stdout",
     "output_type": "stream",
     "text": [
      "Model: \"sequential_3\"\n",
      "_________________________________________________________________\n",
      " Layer (type)                Output Shape              Param #   \n",
      "=================================================================\n",
      " dense_9 (Dense)             (None, 64)                320       \n",
      "                                                                 \n",
      " dense_10 (Dense)            (None, 64)                4160      \n",
      "                                                                 \n",
      " dense_11 (Dense)            (None, 1)                 65        \n",
      "                                                                 \n",
      "=================================================================\n",
      "Total params: 4,545\n",
      "Trainable params: 4,545\n",
      "Non-trainable params: 0\n",
      "_________________________________________________________________\n",
      "Epoch 1/50\n",
      "6694/6694 [==============================] - 34s 5ms/step - loss: -1.2269e-11 - accuracy: 0.3072 - val_loss: -8.1430e-10 - val_accuracy: 0.3056\n",
      "Epoch 2/50\n",
      "6694/6694 [==============================] - 33s 5ms/step - loss: -1.2269e-11 - accuracy: 0.3072 - val_loss: -8.1430e-10 - val_accuracy: 0.3056\n",
      "Epoch 3/50\n",
      "6694/6694 [==============================] - 33s 5ms/step - loss: -1.2269e-11 - accuracy: 0.3072 - val_loss: -8.1430e-10 - val_accuracy: 0.3056\n",
      "Epoch 4/50\n",
      "2109/6694 [========>.....................] - ETA: 20s - loss: 1.0384e-10 - accuracy: 0.3070"
     ]
    },
    {
     "ename": "KeyboardInterrupt",
     "evalue": "",
     "output_type": "error",
     "traceback": [
      "\u001b[1;31m---------------------------------------------------------------------------\u001b[0m",
      "\u001b[1;31mKeyboardInterrupt\u001b[0m                         Traceback (most recent call last)",
      "\u001b[1;32m~\\AppData\\Local\\Temp\\ipykernel_13480\\2828351709.py\u001b[0m in \u001b[0;36m<module>\u001b[1;34m\u001b[0m\n\u001b[0;32m      2\u001b[0m \u001b[0mmodel1\u001b[0m \u001b[1;33m=\u001b[0m \u001b[0mbuild_model1\u001b[0m\u001b[1;33m(\u001b[0m\u001b[1;33m)\u001b[0m\u001b[1;33m\u001b[0m\u001b[1;33m\u001b[0m\u001b[0m\n\u001b[0;32m      3\u001b[0m \u001b[1;31m# Train it on the entirety of the data.\u001b[0m\u001b[1;33m\u001b[0m\u001b[1;33m\u001b[0m\u001b[0m\n\u001b[1;32m----> 4\u001b[1;33m \u001b[0mh1\u001b[0m\u001b[1;33m=\u001b[0m\u001b[0mmodel1\u001b[0m\u001b[1;33m.\u001b[0m\u001b[0mfit\u001b[0m\u001b[1;33m(\u001b[0m\u001b[0mX1_train\u001b[0m\u001b[1;33m,\u001b[0m \u001b[0my1_train\u001b[0m\u001b[1;33m,\u001b[0m \u001b[0mvalidation_data\u001b[0m\u001b[1;33m=\u001b[0m\u001b[1;33m(\u001b[0m\u001b[0mX1_val\u001b[0m\u001b[1;33m,\u001b[0m \u001b[0my1_val\u001b[0m\u001b[1;33m)\u001b[0m\u001b[1;33m,\u001b[0m \u001b[0mepochs\u001b[0m\u001b[1;33m=\u001b[0m\u001b[1;36m50\u001b[0m\u001b[1;33m,\u001b[0m \u001b[0mbatch_size\u001b[0m\u001b[1;33m=\u001b[0m\u001b[1;36m16\u001b[0m\u001b[1;33m,\u001b[0m \u001b[0mverbose\u001b[0m\u001b[1;33m=\u001b[0m\u001b[1;36m1\u001b[0m\u001b[1;33m)\u001b[0m\u001b[1;33m\u001b[0m\u001b[1;33m\u001b[0m\u001b[0m\n\u001b[0m\u001b[0;32m      5\u001b[0m \u001b[1;33m\u001b[0m\u001b[0m\n\u001b[0;32m      6\u001b[0m \u001b[1;31m# 預測結果\u001b[0m\u001b[1;33m\u001b[0m\u001b[1;33m\u001b[0m\u001b[0m\n",
      "\u001b[1;32m~\\anaconda3\\envs\\gpu\\lib\\site-packages\\keras\\utils\\traceback_utils.py\u001b[0m in \u001b[0;36merror_handler\u001b[1;34m(*args, **kwargs)\u001b[0m\n\u001b[0;32m     62\u001b[0m     \u001b[0mfiltered_tb\u001b[0m \u001b[1;33m=\u001b[0m \u001b[1;32mNone\u001b[0m\u001b[1;33m\u001b[0m\u001b[1;33m\u001b[0m\u001b[0m\n\u001b[0;32m     63\u001b[0m     \u001b[1;32mtry\u001b[0m\u001b[1;33m:\u001b[0m\u001b[1;33m\u001b[0m\u001b[1;33m\u001b[0m\u001b[0m\n\u001b[1;32m---> 64\u001b[1;33m       \u001b[1;32mreturn\u001b[0m \u001b[0mfn\u001b[0m\u001b[1;33m(\u001b[0m\u001b[1;33m*\u001b[0m\u001b[0margs\u001b[0m\u001b[1;33m,\u001b[0m \u001b[1;33m**\u001b[0m\u001b[0mkwargs\u001b[0m\u001b[1;33m)\u001b[0m\u001b[1;33m\u001b[0m\u001b[1;33m\u001b[0m\u001b[0m\n\u001b[0m\u001b[0;32m     65\u001b[0m     \u001b[1;32mexcept\u001b[0m \u001b[0mException\u001b[0m \u001b[1;32mas\u001b[0m \u001b[0me\u001b[0m\u001b[1;33m:\u001b[0m  \u001b[1;31m# pylint: disable=broad-except\u001b[0m\u001b[1;33m\u001b[0m\u001b[1;33m\u001b[0m\u001b[0m\n\u001b[0;32m     66\u001b[0m       \u001b[0mfiltered_tb\u001b[0m \u001b[1;33m=\u001b[0m \u001b[0m_process_traceback_frames\u001b[0m\u001b[1;33m(\u001b[0m\u001b[0me\u001b[0m\u001b[1;33m.\u001b[0m\u001b[0m__traceback__\u001b[0m\u001b[1;33m)\u001b[0m\u001b[1;33m\u001b[0m\u001b[1;33m\u001b[0m\u001b[0m\n",
      "\u001b[1;32m~\\anaconda3\\envs\\gpu\\lib\\site-packages\\keras\\engine\\training.py\u001b[0m in \u001b[0;36mfit\u001b[1;34m(self, x, y, batch_size, epochs, verbose, callbacks, validation_split, validation_data, shuffle, class_weight, sample_weight, initial_epoch, steps_per_epoch, validation_steps, validation_batch_size, validation_freq, max_queue_size, workers, use_multiprocessing)\u001b[0m\n\u001b[0;32m   1399\u001b[0m         \u001b[1;32mwith\u001b[0m \u001b[0mdata_handler\u001b[0m\u001b[1;33m.\u001b[0m\u001b[0mcatch_stop_iteration\u001b[0m\u001b[1;33m(\u001b[0m\u001b[1;33m)\u001b[0m\u001b[1;33m:\u001b[0m\u001b[1;33m\u001b[0m\u001b[1;33m\u001b[0m\u001b[0m\n\u001b[0;32m   1400\u001b[0m           \u001b[0mdata_handler\u001b[0m\u001b[1;33m.\u001b[0m\u001b[0m_initial_step\u001b[0m \u001b[1;33m=\u001b[0m \u001b[0mself\u001b[0m\u001b[1;33m.\u001b[0m\u001b[0m_maybe_load_initial_step_from_ckpt\u001b[0m\u001b[1;33m(\u001b[0m\u001b[1;33m)\u001b[0m  \u001b[1;31m# pylint: disable=protected-access\u001b[0m\u001b[1;33m\u001b[0m\u001b[1;33m\u001b[0m\u001b[0m\n\u001b[1;32m-> 1401\u001b[1;33m           \u001b[1;32mfor\u001b[0m \u001b[0mstep\u001b[0m \u001b[1;32min\u001b[0m \u001b[0mdata_handler\u001b[0m\u001b[1;33m.\u001b[0m\u001b[0msteps\u001b[0m\u001b[1;33m(\u001b[0m\u001b[1;33m)\u001b[0m\u001b[1;33m:\u001b[0m\u001b[1;33m\u001b[0m\u001b[1;33m\u001b[0m\u001b[0m\n\u001b[0m\u001b[0;32m   1402\u001b[0m             with tf.profiler.experimental.Trace(\n\u001b[0;32m   1403\u001b[0m                 \u001b[1;34m'train'\u001b[0m\u001b[1;33m,\u001b[0m\u001b[1;33m\u001b[0m\u001b[1;33m\u001b[0m\u001b[0m\n",
      "\u001b[1;32m~\\anaconda3\\envs\\gpu\\lib\\site-packages\\keras\\engine\\data_adapter.py\u001b[0m in \u001b[0;36msteps\u001b[1;34m(self)\u001b[0m\n\u001b[0;32m   1246\u001b[0m       \u001b[1;32mif\u001b[0m \u001b[0mself\u001b[0m\u001b[1;33m.\u001b[0m\u001b[0m_insufficient_data\u001b[0m\u001b[1;33m:\u001b[0m  \u001b[1;31m# Set by `catch_stop_iteration`.\u001b[0m\u001b[1;33m\u001b[0m\u001b[1;33m\u001b[0m\u001b[0m\n\u001b[0;32m   1247\u001b[0m         \u001b[1;32mbreak\u001b[0m\u001b[1;33m\u001b[0m\u001b[1;33m\u001b[0m\u001b[0m\n\u001b[1;32m-> 1248\u001b[1;33m       \u001b[0moriginal_spe\u001b[0m \u001b[1;33m=\u001b[0m \u001b[0mself\u001b[0m\u001b[1;33m.\u001b[0m\u001b[0m_steps_per_execution\u001b[0m\u001b[1;33m.\u001b[0m\u001b[0mnumpy\u001b[0m\u001b[1;33m(\u001b[0m\u001b[1;33m)\u001b[0m\u001b[1;33m.\u001b[0m\u001b[0mitem\u001b[0m\u001b[1;33m(\u001b[0m\u001b[1;33m)\u001b[0m\u001b[1;33m\u001b[0m\u001b[1;33m\u001b[0m\u001b[0m\n\u001b[0m\u001b[0;32m   1249\u001b[0m       can_run_full_execution = (\n\u001b[0;32m   1250\u001b[0m           \u001b[0moriginal_spe\u001b[0m \u001b[1;33m==\u001b[0m \u001b[1;36m1\u001b[0m \u001b[1;32mor\u001b[0m\u001b[1;33m\u001b[0m\u001b[1;33m\u001b[0m\u001b[0m\n",
      "\u001b[1;32m~\\anaconda3\\envs\\gpu\\lib\\site-packages\\tensorflow\\python\\ops\\resource_variable_ops.py\u001b[0m in \u001b[0;36mnumpy\u001b[1;34m(self)\u001b[0m\n\u001b[0;32m    635\u001b[0m   \u001b[1;32mdef\u001b[0m \u001b[0mnumpy\u001b[0m\u001b[1;33m(\u001b[0m\u001b[0mself\u001b[0m\u001b[1;33m)\u001b[0m\u001b[1;33m:\u001b[0m\u001b[1;33m\u001b[0m\u001b[1;33m\u001b[0m\u001b[0m\n\u001b[0;32m    636\u001b[0m     \u001b[1;32mif\u001b[0m \u001b[0mcontext\u001b[0m\u001b[1;33m.\u001b[0m\u001b[0mexecuting_eagerly\u001b[0m\u001b[1;33m(\u001b[0m\u001b[1;33m)\u001b[0m\u001b[1;33m:\u001b[0m\u001b[1;33m\u001b[0m\u001b[1;33m\u001b[0m\u001b[0m\n\u001b[1;32m--> 637\u001b[1;33m       \u001b[1;32mreturn\u001b[0m \u001b[0mself\u001b[0m\u001b[1;33m.\u001b[0m\u001b[0mread_value\u001b[0m\u001b[1;33m(\u001b[0m\u001b[1;33m)\u001b[0m\u001b[1;33m.\u001b[0m\u001b[0mnumpy\u001b[0m\u001b[1;33m(\u001b[0m\u001b[1;33m)\u001b[0m\u001b[1;33m\u001b[0m\u001b[1;33m\u001b[0m\u001b[0m\n\u001b[0m\u001b[0;32m    638\u001b[0m     raise NotImplementedError(\n\u001b[0;32m    639\u001b[0m         \"numpy() is only available when eager execution is enabled.\")\n",
      "\u001b[1;32m~\\anaconda3\\envs\\gpu\\lib\\site-packages\\tensorflow\\python\\framework\\ops.py\u001b[0m in \u001b[0;36mnumpy\u001b[1;34m(self)\u001b[0m\n\u001b[0;32m   1157\u001b[0m     \"\"\"\n\u001b[0;32m   1158\u001b[0m     \u001b[1;31m# TODO(slebedev): Consider avoiding a copy for non-CPU or remote tensors.\u001b[0m\u001b[1;33m\u001b[0m\u001b[1;33m\u001b[0m\u001b[0m\n\u001b[1;32m-> 1159\u001b[1;33m     \u001b[0mmaybe_arr\u001b[0m \u001b[1;33m=\u001b[0m \u001b[0mself\u001b[0m\u001b[1;33m.\u001b[0m\u001b[0m_numpy\u001b[0m\u001b[1;33m(\u001b[0m\u001b[1;33m)\u001b[0m  \u001b[1;31m# pylint: disable=protected-access\u001b[0m\u001b[1;33m\u001b[0m\u001b[1;33m\u001b[0m\u001b[0m\n\u001b[0m\u001b[0;32m   1160\u001b[0m     \u001b[1;32mreturn\u001b[0m \u001b[0mmaybe_arr\u001b[0m\u001b[1;33m.\u001b[0m\u001b[0mcopy\u001b[0m\u001b[1;33m(\u001b[0m\u001b[1;33m)\u001b[0m \u001b[1;32mif\u001b[0m \u001b[0misinstance\u001b[0m\u001b[1;33m(\u001b[0m\u001b[0mmaybe_arr\u001b[0m\u001b[1;33m,\u001b[0m \u001b[0mnp\u001b[0m\u001b[1;33m.\u001b[0m\u001b[0mndarray\u001b[0m\u001b[1;33m)\u001b[0m \u001b[1;32melse\u001b[0m \u001b[0mmaybe_arr\u001b[0m\u001b[1;33m\u001b[0m\u001b[1;33m\u001b[0m\u001b[0m\n\u001b[0;32m   1161\u001b[0m \u001b[1;33m\u001b[0m\u001b[0m\n",
      "\u001b[1;32m~\\anaconda3\\envs\\gpu\\lib\\site-packages\\tensorflow\\python\\framework\\ops.py\u001b[0m in \u001b[0;36m_numpy\u001b[1;34m(self)\u001b[0m\n\u001b[0;32m   1123\u001b[0m   \u001b[1;32mdef\u001b[0m \u001b[0m_numpy\u001b[0m\u001b[1;33m(\u001b[0m\u001b[0mself\u001b[0m\u001b[1;33m)\u001b[0m\u001b[1;33m:\u001b[0m\u001b[1;33m\u001b[0m\u001b[1;33m\u001b[0m\u001b[0m\n\u001b[0;32m   1124\u001b[0m     \u001b[1;32mtry\u001b[0m\u001b[1;33m:\u001b[0m\u001b[1;33m\u001b[0m\u001b[1;33m\u001b[0m\u001b[0m\n\u001b[1;32m-> 1125\u001b[1;33m       \u001b[1;32mreturn\u001b[0m \u001b[0mself\u001b[0m\u001b[1;33m.\u001b[0m\u001b[0m_numpy_internal\u001b[0m\u001b[1;33m(\u001b[0m\u001b[1;33m)\u001b[0m\u001b[1;33m\u001b[0m\u001b[1;33m\u001b[0m\u001b[0m\n\u001b[0m\u001b[0;32m   1126\u001b[0m     \u001b[1;32mexcept\u001b[0m \u001b[0mcore\u001b[0m\u001b[1;33m.\u001b[0m\u001b[0m_NotOkStatusException\u001b[0m \u001b[1;32mas\u001b[0m \u001b[0me\u001b[0m\u001b[1;33m:\u001b[0m  \u001b[1;31m# pylint: disable=protected-access\u001b[0m\u001b[1;33m\u001b[0m\u001b[1;33m\u001b[0m\u001b[0m\n\u001b[0;32m   1127\u001b[0m       \u001b[1;32mraise\u001b[0m \u001b[0mcore\u001b[0m\u001b[1;33m.\u001b[0m\u001b[0m_status_to_exception\u001b[0m\u001b[1;33m(\u001b[0m\u001b[0me\u001b[0m\u001b[1;33m)\u001b[0m \u001b[1;32mfrom\u001b[0m \u001b[1;32mNone\u001b[0m  \u001b[1;31m# pylint: disable=protected-access\u001b[0m\u001b[1;33m\u001b[0m\u001b[1;33m\u001b[0m\u001b[0m\n",
      "\u001b[1;31mKeyboardInterrupt\u001b[0m: "
     ]
    }
   ],
   "source": [
    "# Get a fresh, compiled model.\n",
    "model1 = build_model1()\n",
    "# Train it on the entirety of the data.\n",
    "h1=model1.fit(X1_train, y1_train, validation_data=(X1_val, y1_val), epochs=50, batch_size=16, verbose=1)\n",
    "\n",
    "# 預測結果\n",
    "test1_pred = model1.predict(X1_test)\n",
    "\n",
    "# 評估模型表現\n",
    "test1_eval = model1.evaluate(X1_test, y1_test)\n",
    "test1_score= model1.evaluate(X1_test, y1_test)\n",
    "print('accuracy:', test1_score)"
   ]
  },
  {
   "cell_type": "code",
   "execution_count": 13,
   "id": "355b2eac",
   "metadata": {},
   "outputs": [
    {
     "name": "stdout",
     "output_type": "stream",
     "text": [
      "Model: \"sequential_1\"\n",
      "_________________________________________________________________\n",
      " Layer (type)                Output Shape              Param #   \n",
      "=================================================================\n",
      " dense_3 (Dense)             (None, 64)                320       \n",
      "                                                                 \n",
      " dense_4 (Dense)             (None, 64)                4160      \n",
      "                                                                 \n",
      " dense_5 (Dense)             (None, 1)                 65        \n",
      "                                                                 \n",
      "=================================================================\n",
      "Total params: 4,545\n",
      "Trainable params: 4,545\n",
      "Non-trainable params: 0\n",
      "_________________________________________________________________\n",
      "Epoch 1/50\n",
      "6694/6694 [==============================] - 36s 5ms/step - loss: 0.2429 - mae: 0.3711 - mse: 0.2429 - val_loss: 0.1939 - val_mae: 0.3288 - val_mse: 0.1939\n",
      "Epoch 2/50\n",
      "6694/6694 [==============================] - 35s 5ms/step - loss: 0.1931 - mae: 0.3285 - mse: 0.1931 - val_loss: 0.1856 - val_mae: 0.3193 - val_mse: 0.1856\n",
      "Epoch 3/50\n",
      "6694/6694 [==============================] - 36s 5ms/step - loss: 0.1884 - mae: 0.3234 - mse: 0.1884 - val_loss: 0.1934 - val_mae: 0.3239 - val_mse: 0.1934\n",
      "Epoch 4/50\n",
      "6694/6694 [==============================] - 35s 5ms/step - loss: 0.1854 - mae: 0.3207 - mse: 0.1854 - val_loss: 0.1831 - val_mae: 0.3200 - val_mse: 0.1831\n",
      "Epoch 5/50\n",
      "6694/6694 [==============================] - 35s 5ms/step - loss: 0.1842 - mae: 0.3192 - mse: 0.1842 - val_loss: 0.2001 - val_mae: 0.3309 - val_mse: 0.2001\n",
      "Epoch 6/50\n",
      "6694/6694 [==============================] - 34s 5ms/step - loss: 0.1835 - mae: 0.3183 - mse: 0.1835 - val_loss: 0.1844 - val_mae: 0.3157 - val_mse: 0.1844\n",
      "Epoch 7/50\n",
      "6694/6694 [==============================] - 33s 5ms/step - loss: 0.1827 - mae: 0.3175 - mse: 0.1827 - val_loss: 0.1892 - val_mae: 0.3216 - val_mse: 0.1892\n",
      "Epoch 8/50\n",
      "6694/6694 [==============================] - 31s 5ms/step - loss: 0.1824 - mae: 0.3170 - mse: 0.1824 - val_loss: 0.1835 - val_mae: 0.3214 - val_mse: 0.1835\n",
      "Epoch 9/50\n",
      "6694/6694 [==============================] - 31s 5ms/step - loss: 0.1818 - mae: 0.3165 - mse: 0.1818 - val_loss: 0.1805 - val_mae: 0.3142 - val_mse: 0.1805\n",
      "Epoch 10/50\n",
      "6694/6694 [==============================] - 31s 5ms/step - loss: 0.1813 - mae: 0.3160 - mse: 0.1813 - val_loss: 0.1817 - val_mae: 0.3170 - val_mse: 0.1817\n",
      "Epoch 11/50\n",
      "6694/6694 [==============================] - 33s 5ms/step - loss: 0.1810 - mae: 0.3159 - mse: 0.1810 - val_loss: 0.1875 - val_mae: 0.3165 - val_mse: 0.1875\n",
      "Epoch 12/50\n",
      "6694/6694 [==============================] - 31s 5ms/step - loss: 0.1805 - mae: 0.3154 - mse: 0.1805 - val_loss: 0.1838 - val_mae: 0.3183 - val_mse: 0.1838\n",
      "Epoch 13/50\n",
      "6694/6694 [==============================] - 31s 5ms/step - loss: 0.1798 - mae: 0.3149 - mse: 0.1798 - val_loss: 0.1836 - val_mae: 0.3202 - val_mse: 0.1836\n",
      "Epoch 14/50\n",
      "6694/6694 [==============================] - 33s 5ms/step - loss: 0.1796 - mae: 0.3145 - mse: 0.1796 - val_loss: 0.1795 - val_mae: 0.3191 - val_mse: 0.1795\n",
      "Epoch 15/50\n",
      "6694/6694 [==============================] - 33s 5ms/step - loss: 0.1791 - mae: 0.3141 - mse: 0.1791 - val_loss: 0.1793 - val_mae: 0.3174 - val_mse: 0.1793\n",
      "Epoch 16/50\n",
      "6694/6694 [==============================] - 31s 5ms/step - loss: 0.1789 - mae: 0.3139 - mse: 0.1789 - val_loss: 0.1777 - val_mae: 0.3113 - val_mse: 0.1777\n",
      "Epoch 17/50\n",
      "6694/6694 [==============================] - 31s 5ms/step - loss: 0.1784 - mae: 0.3134 - mse: 0.1784 - val_loss: 0.1773 - val_mae: 0.3172 - val_mse: 0.1773\n",
      "Epoch 18/50\n",
      "6694/6694 [==============================] - 31s 5ms/step - loss: 0.1784 - mae: 0.3134 - mse: 0.1784 - val_loss: 0.1843 - val_mae: 0.3235 - val_mse: 0.1843\n",
      "Epoch 19/50\n",
      "6694/6694 [==============================] - 30s 5ms/step - loss: 0.1780 - mae: 0.3130 - mse: 0.1780 - val_loss: 0.1814 - val_mae: 0.3117 - val_mse: 0.1814\n",
      "Epoch 20/50\n",
      "6694/6694 [==============================] - 31s 5ms/step - loss: 0.1781 - mae: 0.3128 - mse: 0.1781 - val_loss: 0.1777 - val_mae: 0.3140 - val_mse: 0.1777\n",
      "Epoch 21/50\n",
      "6694/6694 [==============================] - 30s 5ms/step - loss: 0.1777 - mae: 0.3126 - mse: 0.1777 - val_loss: 0.1783 - val_mae: 0.3148 - val_mse: 0.1783\n",
      "Epoch 22/50\n",
      "6694/6694 [==============================] - 33s 5ms/step - loss: 0.1771 - mae: 0.3119 - mse: 0.1771 - val_loss: 0.1778 - val_mae: 0.3131 - val_mse: 0.1778\n",
      "Epoch 23/50\n",
      "6694/6694 [==============================] - 31s 5ms/step - loss: 0.1773 - mae: 0.3121 - mse: 0.1773 - val_loss: 0.1761 - val_mae: 0.3137 - val_mse: 0.1761\n",
      "Epoch 24/50\n",
      "6694/6694 [==============================] - 31s 5ms/step - loss: 0.1771 - mae: 0.3116 - mse: 0.1771 - val_loss: 0.1797 - val_mae: 0.3122 - val_mse: 0.1797\n",
      "Epoch 25/50\n",
      "6694/6694 [==============================] - 30s 5ms/step - loss: 0.1772 - mae: 0.3120 - mse: 0.1772 - val_loss: 0.1814 - val_mae: 0.3149 - val_mse: 0.1814\n",
      "Epoch 26/50\n",
      "6694/6694 [==============================] - 32s 5ms/step - loss: 0.1771 - mae: 0.3118 - mse: 0.1771 - val_loss: 0.1838 - val_mae: 0.3155 - val_mse: 0.1838\n",
      "Epoch 27/50\n",
      "6694/6694 [==============================] - 30s 5ms/step - loss: 0.1772 - mae: 0.3120 - mse: 0.1772 - val_loss: 0.1838 - val_mae: 0.3213 - val_mse: 0.1838\n",
      "Epoch 28/50\n",
      "6694/6694 [==============================] - 31s 5ms/step - loss: 0.1769 - mae: 0.3113 - mse: 0.1769 - val_loss: 0.1770 - val_mae: 0.3093 - val_mse: 0.1770\n",
      "Epoch 29/50\n",
      "6694/6694 [==============================] - 31s 5ms/step - loss: 0.1770 - mae: 0.3115 - mse: 0.1770 - val_loss: 0.1763 - val_mae: 0.3096 - val_mse: 0.1763\n",
      "Epoch 30/50\n",
      "6694/6694 [==============================] - 31s 5ms/step - loss: 0.1769 - mae: 0.3114 - mse: 0.1769 - val_loss: 0.1752 - val_mae: 0.3101 - val_mse: 0.1752\n",
      "Epoch 31/50\n",
      "6694/6694 [==============================] - 28s 4ms/step - loss: 0.1771 - mae: 0.3114 - mse: 0.1771 - val_loss: 0.1811 - val_mae: 0.3112 - val_mse: 0.1811\n",
      "Epoch 32/50\n",
      "6694/6694 [==============================] - 28s 4ms/step - loss: 0.1767 - mae: 0.3111 - mse: 0.1767 - val_loss: 0.1800 - val_mae: 0.3158 - val_mse: 0.1800\n",
      "Epoch 33/50\n",
      "6694/6694 [==============================] - 29s 4ms/step - loss: 0.1764 - mae: 0.3109 - mse: 0.1764 - val_loss: 0.1777 - val_mae: 0.3116 - val_mse: 0.1777\n",
      "Epoch 34/50\n",
      "6694/6694 [==============================] - 29s 4ms/step - loss: 0.1762 - mae: 0.3102 - mse: 0.1762 - val_loss: 0.1832 - val_mae: 0.3191 - val_mse: 0.1832\n",
      "Epoch 35/50\n",
      "6694/6694 [==============================] - 29s 4ms/step - loss: 0.1761 - mae: 0.3102 - mse: 0.1761 - val_loss: 0.1803 - val_mae: 0.3126 - val_mse: 0.1803\n",
      "Epoch 36/50\n",
      "6694/6694 [==============================] - 28s 4ms/step - loss: 0.1758 - mae: 0.3099 - mse: 0.1758 - val_loss: 0.1875 - val_mae: 0.3211 - val_mse: 0.1875\n",
      "Epoch 37/50\n",
      "6694/6694 [==============================] - 28s 4ms/step - loss: 0.1758 - mae: 0.3101 - mse: 0.1758 - val_loss: 0.1771 - val_mae: 0.3118 - val_mse: 0.1771\n",
      "Epoch 38/50\n",
      "6694/6694 [==============================] - 29s 4ms/step - loss: 0.1756 - mae: 0.3093 - mse: 0.1756 - val_loss: 0.1835 - val_mae: 0.3196 - val_mse: 0.1835\n",
      "Epoch 39/50\n",
      "6694/6694 [==============================] - 29s 4ms/step - loss: 0.1756 - mae: 0.3095 - mse: 0.1756 - val_loss: 0.1820 - val_mae: 0.3135 - val_mse: 0.1820\n",
      "Epoch 40/50\n",
      "6694/6694 [==============================] - 28s 4ms/step - loss: 0.1758 - mae: 0.3099 - mse: 0.1758 - val_loss: 0.1756 - val_mae: 0.3098 - val_mse: 0.1756\n",
      "Epoch 41/50\n",
      "6694/6694 [==============================] - 29s 4ms/step - loss: 0.1757 - mae: 0.3097 - mse: 0.1757 - val_loss: 0.1785 - val_mae: 0.3089 - val_mse: 0.1785\n",
      "Epoch 42/50\n",
      "6694/6694 [==============================] - 28s 4ms/step - loss: 0.1754 - mae: 0.3094 - mse: 0.1754 - val_loss: 0.1890 - val_mae: 0.3134 - val_mse: 0.1890\n",
      "Epoch 43/50\n",
      "6694/6694 [==============================] - 29s 4ms/step - loss: 0.1754 - mae: 0.3096 - mse: 0.1754 - val_loss: 0.1771 - val_mae: 0.3103 - val_mse: 0.1771\n",
      "Epoch 44/50\n",
      "6694/6694 [==============================] - 31s 5ms/step - loss: 0.1753 - mae: 0.3096 - mse: 0.1753 - val_loss: 0.1743 - val_mae: 0.3109 - val_mse: 0.1743\n"
     ]
    },
    {
     "name": "stdout",
     "output_type": "stream",
     "text": [
      "Epoch 45/50\n",
      "6694/6694 [==============================] - 29s 4ms/step - loss: 0.1751 - mae: 0.3094 - mse: 0.1751 - val_loss: 0.1770 - val_mae: 0.3108 - val_mse: 0.1770\n",
      "Epoch 46/50\n",
      "6694/6694 [==============================] - 28s 4ms/step - loss: 0.1752 - mae: 0.3094 - mse: 0.1752 - val_loss: 0.1790 - val_mae: 0.3133 - val_mse: 0.1790\n",
      "Epoch 47/50\n",
      "6694/6694 [==============================] - 29s 4ms/step - loss: 0.1749 - mae: 0.3093 - mse: 0.1749 - val_loss: 0.1838 - val_mae: 0.3103 - val_mse: 0.1838\n",
      "Epoch 48/50\n",
      "6694/6694 [==============================] - 28s 4ms/step - loss: 0.1754 - mae: 0.3093 - mse: 0.1754 - val_loss: 0.1776 - val_mae: 0.3184 - val_mse: 0.1776\n",
      "Epoch 49/50\n",
      "6694/6694 [==============================] - 29s 4ms/step - loss: 0.1750 - mae: 0.3091 - mse: 0.1750 - val_loss: 0.1764 - val_mae: 0.3086 - val_mse: 0.1764\n",
      "Epoch 50/50\n",
      "6694/6694 [==============================] - 29s 4ms/step - loss: 0.1750 - mae: 0.3090 - mse: 0.1750 - val_loss: 0.1741 - val_mae: 0.3088 - val_mse: 0.1741\n",
      "718/718 [==============================] - 1s 686us/step\n",
      "718/718 [==============================] - 1s 2ms/step - loss: 0.1706 - mae: 0.3063 - mse: 0.1706\n",
      "718/718 [==============================] - 1s 2ms/step - loss: 0.1706 - mae: 0.3063 - mse: 0.1706\n"
     ]
    },
    {
     "ename": "ValueError",
     "evalue": "too many values to unpack (expected 2)",
     "output_type": "error",
     "traceback": [
      "\u001b[1;31m---------------------------------------------------------------------------\u001b[0m",
      "\u001b[1;31mValueError\u001b[0m                                Traceback (most recent call last)",
      "\u001b[1;32m~\\AppData\\Local\\Temp\\ipykernel_12148\\469446245.py\u001b[0m in \u001b[0;36m<module>\u001b[1;34m\u001b[0m\n\u001b[0;32m      9\u001b[0m \u001b[1;31m# 評估模型表現\u001b[0m\u001b[1;33m\u001b[0m\u001b[1;33m\u001b[0m\u001b[0m\n\u001b[0;32m     10\u001b[0m \u001b[0mtest2_eval\u001b[0m \u001b[1;33m=\u001b[0m \u001b[0mmodel2\u001b[0m\u001b[1;33m.\u001b[0m\u001b[0mevaluate\u001b[0m\u001b[1;33m(\u001b[0m\u001b[0mX2_test\u001b[0m\u001b[1;33m,\u001b[0m \u001b[0my2_test\u001b[0m\u001b[1;33m)\u001b[0m\u001b[1;33m\u001b[0m\u001b[1;33m\u001b[0m\u001b[0m\n\u001b[1;32m---> 11\u001b[1;33m \u001b[0mtest2_mse_score\u001b[0m\u001b[1;33m,\u001b[0m \u001b[0mtest2_mae_score\u001b[0m\u001b[1;33m=\u001b[0m \u001b[0mmodel2\u001b[0m\u001b[1;33m.\u001b[0m\u001b[0mevaluate\u001b[0m\u001b[1;33m(\u001b[0m\u001b[0mX2_test\u001b[0m\u001b[1;33m,\u001b[0m \u001b[0my2_test\u001b[0m\u001b[1;33m)\u001b[0m\u001b[1;33m\u001b[0m\u001b[1;33m\u001b[0m\u001b[0m\n\u001b[0m",
      "\u001b[1;31mValueError\u001b[0m: too many values to unpack (expected 2)"
     ]
    }
   ],
   "source": [
    "# Get a fresh, compiled model.\n",
    "model2 = build_model2()\n",
    "# Train it on the entirety of the data.\n",
    "h=model2.fit(X2_train, y2_train, validation_data=(X2_val, y2_val), epochs=50, batch_size=16, verbose=1)\n",
    "\n",
    "# 預測結果\n",
    "test2_pred = model2.predict(X2_test)\n",
    "\n",
    "# 評估模型表現\n",
    "test2_eval = model2.evaluate(X2_test, y2_test)\n",
    "score= model2.evaluate(X2_test, y2_test)\n",
    "print('mse:', score[0])\n",
    "print('mae:', score[1])\n",
    "print('mape:', score[2])"
   ]
  }
 ],
 "metadata": {
  "kernelspec": {
   "display_name": "Python 3 (ipykernel)",
   "language": "python",
   "name": "python3"
  },
  "language_info": {
   "codemirror_mode": {
    "name": "ipython",
    "version": 3
   },
   "file_extension": ".py",
   "mimetype": "text/x-python",
   "name": "python",
   "nbconvert_exporter": "python",
   "pygments_lexer": "ipython3",
   "version": "3.9.16"
  }
 },
 "nbformat": 4,
 "nbformat_minor": 5
}
